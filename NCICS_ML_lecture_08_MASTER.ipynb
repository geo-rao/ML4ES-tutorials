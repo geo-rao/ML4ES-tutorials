{
  "nbformat": 4,
  "nbformat_minor": 0,
  "metadata": {
    "colab": {
      "name": "NCICS_ML_lecture_08_MASTER.ipynb",
      "provenance": [],
      "collapsed_sections": [
        "s6_i1t8m0o7Y"
      ],
      "authorship_tag": "ABX9TyMGUkbkVRo34Baj2hd0GVps",
      "include_colab_link": true
    },
    "kernelspec": {
      "name": "python3",
      "display_name": "Python 3"
    }
  },
  "cells": [
    {
      "cell_type": "markdown",
      "metadata": {
        "id": "view-in-github",
        "colab_type": "text"
      },
      "source": [
        "<a href=\"https://colab.research.google.com/github/geo-yrao/ML4ES-tutorials/blob/master/NCICS_ML_lecture_08_MASTER.ipynb\" target=\"_parent\"><img src=\"https://colab.research.google.com/assets/colab-badge.svg\" alt=\"Open In Colab\"/></a>"
      ]
    },
    {
      "cell_type": "markdown",
      "metadata": {
        "id": "s6_i1t8m0o7Y",
        "colab_type": "text"
      },
      "source": [
        "# NCICS ML Lesson 08: introduction to random forests and other decision tree ensemble methods\n",
        "\n",
        "Welcome to Lesson 8 of the North Carolina Institute for Climate Studies' Machine Learning Course. In this session, we'll build upon the decision tree classification algorithms that we introduced in Lesson 7.\n",
        "\n",
        "## Session purpose:\n",
        "Introduce the general concept of ensemble classification methods, with an emphasis on two of the main tree ensemble methods.\n",
        "\n",
        "## Session contents:\n",
        "In this session, we will introduce you to both random forest classifiers and extreme gradient-boosted tree classifiers. They are both indispensible tools in a machine learning-practitioner's toolkit. Each of them, at their core, uses many decision trees to collectively construct their final classifiers; however, they go about constructing their classifiers in very different ways, as we covered in the lecture slides.\n",
        "\n",
        "## About the data set:\n",
        "\n",
        "The data set is actually satellite imagery of our home city of Asheville, taken from Landsat 8, an imaging satellite that was launched in 2013.  Check out the following links for more information:\n",
        "\n",
        "[USGS Landsat Missions: Landsat 8](https://www.usgs.gov/land-resources/nli/landsat/landsat-8?qt-science_support_page_related_con=0#qt-science_support_page_related_con)\n",
        "\n",
        "[NASA Landsat Science: Landsat 8](https://landsat.gsfc.nasa.gov/landsat-data-continuity-mission/)"
      ]
    },
    {
      "cell_type": "markdown",
      "metadata": {
        "id": "Bb7Cov1A154g",
        "colab_type": "text"
      },
      "source": [
        "# Preprocess the data\n",
        "\n",
        "We will be reusing the binary data set that we classified in Lesson 5. To prepare it for classification, we'll go through the same preprocessing steps as last time."
      ]
    },
    {
      "cell_type": "code",
      "metadata": {
        "id": "_OrK9zEf39UF",
        "colab_type": "code",
        "colab": {
          "base_uri": "https://localhost:8080/",
          "height": 49
        },
        "outputId": "1c9b41b7-4198-423b-d1ba-abca452c58bd"
      },
      "source": [
        "# Import all of the libraries that we'll be using.\n",
        "import matplotlib.pyplot as plt\n",
        "import numpy as np\n",
        "import pandas as pd\n",
        "import seaborn\n",
        "import xgboost as xgb\n",
        "\n",
        "# Import additional modules, objects, and functions that we'll use.\n",
        "from sklearn.metrics import confusion_matrix\n",
        "from sklearn.model_selection import cross_val_score, StratifiedKFold, GridSearchCV\n",
        "from sklearn.ensemble import RandomForestClassifier\n",
        "\n",
        "# Define the path and names of our data files.\n",
        "path_data_dir =\\\n",
        "  \"./ML4ES-tutorials/00-Data/\"\n",
        "filename_data = \"NC_L8_GroundTruth.csv\"\n",
        "\n",
        "# Clone the data from Douglas' repo and then check which files are present.\n",
        "try:\n",
        "    ! git clone https://github.com/geo-yrao/ML4ES-tutorials.git\n",
        "    ! ls $path_data_dir\n",
        "except:\n",
        "    ! ls $path_data_dir"
      ],
      "execution_count": null,
      "outputs": [
        {
          "output_type": "stream",
          "text": [
            "fatal: destination path 'ML4ES-tutorials' already exists and is not an empty directory.\n",
            "CDL_2017.tif  label_information.txt  NC_L8_GroundTruth.csv  README.md\n"
          ],
          "name": "stdout"
        }
      ]
    },
    {
      "cell_type": "markdown",
      "metadata": {
        "id": "74ber_OXE3QG",
        "colab_type": "text"
      },
      "source": [
        "## Ingest the data \n",
        "\n",
        "Class label information:\n",
        "\n",
        "1.   **Class 0**: forest (includes data from cdl classes: 'forest', 'deciduous forest', 'evergreen forest', 'mixed forest');\n",
        "2.   **Class 1**: corn (includes data from cdl class 'corn');\n",
        "3.   **Class 2**: soy (includes data from cdl class 'soybeans');\n",
        "4.   **Class 3**: developed/urban (includes data from cdl classes 'developed/open space', 'developed/low intensity', 'developed/med intensity', 'developed/high intensity');\n",
        "5.   **Class 4**: water (includes data from cdl class 'open water')."
      ]
    },
    {
      "cell_type": "code",
      "metadata": {
        "id": "EFlD1qzsLYm9",
        "colab_type": "code",
        "colab": {}
      },
      "source": [
        "# Use pandas's read_csv() function to import the data. Stipulate that the first column as the dataframe's index.\n",
        "df_data = pd.read_csv(path_data_dir+filename_data, index_col=None)\n",
        "\n",
        "# Delete the column named \"Unnamed: 0\", which were the row indices in the CSV.\n",
        "df_data = df_data.drop(labels=[\"Unnamed: 0\"], axis=\"columns\")\n",
        "\n",
        "# Isolate the data and the target values from the dataframe.\n",
        "X = df_data.values[:, 3:]  # Data. The six L8 channels in the dataframe.\n",
        "y = df_data.values[:, 2] # Target. The \"class\" column in the dataframe.\n",
        "y_merged = np.array([i if i < 2 else i-1 for i in y]) # Merge corn and soy into single class.\n",
        "\n",
        "# Define a list of the class names.\n",
        "multiclass_labels_list = [\"forest\", \"corn/soy\", \"urban\", \"water\"]"
      ],
      "execution_count": null,
      "outputs": []
    },
    {
      "cell_type": "markdown",
      "metadata": {
        "id": "cQEdOw2Wn8IJ",
        "colab_type": "text"
      },
      "source": [
        "## Random forest classifier: search for optimized hyperparameters\n",
        "\n",
        "Here we will use a simple grid search to lightly optimize a random forest classifier."
      ]
    },
    {
      "cell_type": "code",
      "metadata": {
        "id": "m6qB1PYnGgmN",
        "colab_type": "code",
        "colab": {
          "base_uri": "https://localhost:8080/",
          "height": 49
        },
        "outputId": "424cfe4e-bf45-4f07-f8c5-d381283601f7"
      },
      "source": [
        "# Define the parameter ranges, over which the grid search algorithm will scan, \n",
        "# for the number of estimators (ie, the number of decision trees) in the random forest.\n",
        "# We will try 25, 50, 100 and 200 trees.\n",
        "N_ESTIMATORS = [25, 50, 100, 200,]\n",
        "\n",
        "# Define the range of max tree depths over which to search. We will have the\n",
        "# grid search check trees of depths 5, 10, 50 and also allow it to grow trees in\n",
        "# an unrestrained manner. In scikit-learn, unrestrained tree growth is the\n",
        "# default option and is indicated by including None as an argument.\n",
        "MAX_DEPTH = [5, 10, 50, None]\n",
        "\n",
        "# Take the two parameter lists we defined above and include them in a parameter\n",
        "# grid that will be fed to scklearn's GridSearchCV object for hyperparameter\n",
        "# optimization. See the following site for an example of such a parameter grid:\n",
        "# https://scikit-learn.org/stable/modules/grid_search.html\n",
        "# Know that the keywords of the parameter grid dictionaries are the names of the\n",
        "# keyword arguments taken by the classifiers that we're optimizing.\n",
        "param_grid = [\n",
        "    {\n",
        "        \"n_estimators\":N_ESTIMATORS,\n",
        "        \"max_depth\":MAX_DEPTH,\n",
        "    }\n",
        "]\n",
        "\n",
        "# Define a GridSearchCV object that will optimize a random forest classfier over\n",
        "# our previously defined parameter grid. Set the grid search object to use 5-fold\n",
        "# cross-validation and to take advantage of all of the available processors for\n",
        "# running the search.\n",
        "gridsearch_rf = GridSearchCV(\n",
        "    RandomForestClassifier(),\n",
        "    param_grid,\n",
        "    cv=5,\n",
        "    n_jobs=-1,\n",
        ")\n",
        "\n",
        "# Run the search on the features and the merged classes.\n",
        "gridsearch_rf.fit(X, y_merged)\n",
        "\n",
        "# Print the best parameters from the grid search and the best score.\n",
        "print(\"Best parameters:\", gridsearch_rf.best_params_)\n",
        "print(\"Best score:\", gridsearch_rf.best_score_)"
      ],
      "execution_count": null,
      "outputs": [
        {
          "output_type": "stream",
          "text": [
            "Best parameters: {'max_depth': 50, 'n_estimators': 200}\n",
            "Best score: 0.8058947368421053\n"
          ],
          "name": "stdout"
        }
      ]
    },
    {
      "cell_type": "markdown",
      "metadata": {
        "id": "Ywd9HLQ1ODwj",
        "colab_type": "text"
      },
      "source": [
        "# XGBoost\n",
        "\n",
        "Now we will run an analogous search for an XGBoost classifier instead."
      ]
    },
    {
      "cell_type": "code",
      "metadata": {
        "id": "vfrwHwthOIAK",
        "colab_type": "code",
        "colab": {
          "base_uri": "https://localhost:8080/",
          "height": 49
        },
        "outputId": "e603b34a-a31c-4da2-f872-31e87f54bed7"
      },
      "source": [
        "# Define a GridSearchCV object that takes an XGBoost classifier, instead of a\n",
        "# random forest, as the model to optimize. Set that classifier's learning rate\n",
        "# to 0.3, in order to match the default value for the R version of XGBoost \n",
        "# (neither Douglas nor I know the reason they have two distinct default learning\n",
        "# rates).\n",
        "gridsearch_xgb = GridSearchCV(\n",
        "    xgb.XGBClassifier(learning_rate=0.3),\n",
        "    param_grid,\n",
        "    cv=5,\n",
        "    n_jobs=-1,\n",
        ")\n",
        "\n",
        "# Run the search on the features and the merged classes.\n",
        "gridsearch_xgb.fit(X, y_merged)\n",
        "\n",
        "# Print the best parameters from the grid search and the best score.\n",
        "print(\"Best parameters:\", gridsearch_xgb.best_params_)\n",
        "print(\"Best score:\", gridsearch_xgb.best_score_)"
      ],
      "execution_count": null,
      "outputs": [
        {
          "output_type": "stream",
          "text": [
            "Best parameters: {'max_depth': 50, 'n_estimators': 100}\n",
            "Best score: 0.8021052631578947\n"
          ],
          "name": "stdout"
        }
      ]
    },
    {
      "cell_type": "markdown",
      "metadata": {
        "id": "eF7UmK9aU3kE",
        "colab_type": "text"
      },
      "source": [
        "# Compare performance of RF and XGB\n",
        "\n",
        "Here we will compare the performance of a random forest and an XGBoost classifier, using the best parameters found during the grid searches."
      ]
    },
    {
      "cell_type": "code",
      "metadata": {
        "id": "swd0uWgEU8VE",
        "colab_type": "code",
        "colab": {}
      },
      "source": [
        "# Initialize a random forest (RF) classifier object with the best hyperparameter \n",
        "# sets from the grid search.\n",
        "rf_classifier = RandomForestClassifier(**gridsearch_rf.best_params_)\n",
        "\n",
        "# Initialize an XGB classifier object with the best hyperparameter \n",
        "# sets from the grid search.\n",
        "xgb_classifier = xgb.XGBClassifier(**gridsearch_xgb.best_params_)\n",
        "\n",
        "# Initialize a stratified 5-fold cross-validation object.  Make certain that it\n",
        "# randomly shuffles the data. AND, since it's randomly shuffling the data, make\n",
        "# certain that its random state is set to 7 (an arbitrary choice: it simply\n",
        "# needs to have a constant random state seed).\n",
        "stratified_kfold_generator = StratifiedKFold(\n",
        "    n_splits=5,\n",
        "    shuffle=True,\n",
        "    random_state=7\n",
        ")\n",
        "\n",
        "# Iterate through each of the splits and train/test both classifiers. We will \n",
        "# store the predictions in the following lists, \"classfication predictions_rf\" \n",
        "# and \"classfication predictions_xgb\".\n",
        "classification_predictions_rf = list()\n",
        "classification_predictions_xgb = list()\n",
        "for train, test in stratified_kfold_generator.split(X, y_merged):\n",
        "\n",
        "    # Fit the classifiers to the training data. This erases the training from any\n",
        "    # previous iteration of the loop.\n",
        "    rf_classifier.fit(X[train], y_merged[train].ravel())\n",
        "    xgb_classifier.fit(X[train], y_merged[train].ravel())\n",
        "\n",
        "    # Have the newly trained classifiers predict the classes of the withheld testing data.\n",
        "    y_predicted_rf = rf_classifier.predict(X[test])\n",
        "    y_predicted_xgb = xgb_classifier.predict(X[test])\n",
        "\n",
        "    # Add the true class labels and the predicted class labels to the storage lists.\n",
        "    classification_predictions_rf.append((y_merged[test].ravel(), y_predicted_rf.ravel()))\n",
        "    classification_predictions_xgb.append((y_merged[test].ravel(), y_predicted_xgb.ravel()))"
      ],
      "execution_count": null,
      "outputs": []
    },
    {
      "cell_type": "code",
      "metadata": {
        "id": "MC9AAZDKW6-s",
        "colab_type": "code",
        "colab": {
          "base_uri": "https://localhost:8080/",
          "height": 375
        },
        "outputId": "bc8293bd-2d02-415f-a84e-6eb5adf665fc"
      },
      "source": [
        "def calculate_normalized_conf_matrix(classification_predictions):\n",
        "    cf = np.zeros((4,4))\n",
        "    for y_true, y_pred in classification_predictions:\n",
        "        cf += confusion_matrix(y_true, y_pred)\n",
        "    return cf/cf.sum()\n",
        "\n",
        "# Loop through the cached predictions and calculate the confusion matrices for\n",
        "# both classifiers.\n",
        "cf_rf = calculate_normalized_conf_matrix(classification_predictions_rf)\n",
        "cf_xgb = calculate_normalized_conf_matrix(classification_predictions_xgb)\n",
        "\n",
        "# Initialize figure and axes objects in order to plot the two confusion matrices.\n",
        "fig, ax = plt.subplots(1, 2, figsize=(14, 5))\n",
        "\n",
        "# Plot the random forest confusion matrix.\n",
        "seaborn.heatmap(\n",
        "    cf_rf, cmap=\"Reds\", annot=cf_rf, square=True, cbar=True,\n",
        "    xticklabels=multiclass_labels_list, yticklabels=multiclass_labels_list,\n",
        "    ax=ax[0]\n",
        ")\n",
        "\n",
        "# Add labels to the x-axis and the y-axis.\n",
        "ax[0].set_xlabel(\"Predicted\", fontsize=16)\n",
        "ax[0].set_ylabel(\"True\", fontsize=16)\n",
        "\n",
        "# Plot the XGBoost confusion matrix.\n",
        "seaborn.heatmap(\n",
        "    cf_xgb, cmap=\"Reds\", annot=True, square=True,\n",
        "    xticklabels=multiclass_labels_list, yticklabels=multiclass_labels_list,\n",
        "    ax=ax[1]\n",
        ")\n",
        "\n",
        "# Add a label to the x-axis.\n",
        "ax[1].set_xlabel(\"Predicted\", fontsize=16)\n",
        "\n",
        "# Add a title to the figure.\n",
        "ax[0].set_title(\"RF predictions\")\n",
        "ax[1].set_title(\"XGB predictions\")\n",
        "\n",
        "fig.suptitle(\"Confusion matrices for optimized RF and XGB classifers\")\n",
        "\n",
        "# Display the figure.\n",
        "fig.show()"
      ],
      "execution_count": null,
      "outputs": [
        {
          "output_type": "display_data",
          "data": {
            "image/png": "[encoded data removed]",
            "text/plain": [
              "<Figure size 1008x360 with 4 Axes>"
            ]
          },
          "metadata": {
            "tags": [],
            "needs_background": "light"
          }
        }
      ]
    }
  ]
}